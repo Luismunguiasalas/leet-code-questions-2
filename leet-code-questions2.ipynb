{
 "metadata": {
  "language_info": {
   "codemirror_mode": {
    "name": "ipython",
    "version": 3
   },
   "file_extension": ".py",
   "mimetype": "text/x-python",
   "name": "python",
   "nbconvert_exporter": "python",
   "pygments_lexer": "ipython3",
   "version": "3.8.5-final"
  },
  "orig_nbformat": 2,
  "kernelspec": {
   "name": "python3",
   "display_name": "Python 3",
   "language": "python"
  }
 },
 "nbformat": 4,
 "nbformat_minor": 2,
 "cells": [
  {
   "cell_type": "code",
   "execution_count": null,
   "metadata": {},
   "outputs": [],
   "source": [
    "# 1672 richest customer wealth\n",
    "class Solution:\n",
    "    def maximumWealth(self, accounts: List[List[int]]) -> int:\n",
    "        max_wealth = 0\n",
    "        for a in accounts:\n",
    "            summ = sum(a)\n",
    "            if summ > max_wealth:\n",
    "                max_wealth = summ\n",
    "        return max_wealth"
   ]
  },
  {
   "cell_type": "code",
   "execution_count": null,
   "metadata": {},
   "outputs": [],
   "source": [
    "# remove duplicates from sorted list\n",
    "# Definition for singly-linked list.\n",
    "# class ListNode:\n",
    "#     def __init__(self, val=0, next=None):\n",
    "#         self.val = val\n",
    "#         self.next = next\n",
    "class Solution:\n",
    "    def deleteDuplicates(self, head: ListNode) -> ListNode:\n",
    "        current = head\n",
    "        while current is not None and current.next is not None:\n",
    "            if current.val == current.next.val:\n",
    "                current.next = current.next.next\n",
    "            else:\n",
    "                current = current.next\n",
    "        return head"
   ]
  },
  {
   "cell_type": "code",
   "execution_count": null,
   "metadata": {},
   "outputs": [],
   "source": [
    "# 1360 number of days between two dates\n",
    "class Solution:\n",
    "    def daysBetweenDates(self, date1: str, date2: str) -> int:\n",
    "        from datetime import datetime\n",
    "        d1 = datetime.strptime(date1, \"%Y-%m-%d\")\n",
    "        d2 = datetime.strptime(date2, \"%Y-%m-%d\")\n",
    "        return abs((d2-d1).days)"
   ]
  },
  {
   "cell_type": "code",
   "execution_count": null,
   "metadata": {},
   "outputs": [],
   "source": [
    "# 1688. Count of Matches in Tournament\n",
    "# Input: n = 7\n",
    "# Output: 6\n",
    "# Explanation: Details of the tournament: \n",
    "# - 1st Round: Teams = 7, Matches = 3, and 4 teams advance.\n",
    "# - 2nd Round: Teams = 4, Matches = 2, and 2 teams advance.\n",
    "# - 3rd Round: Teams = 2, Matches = 1, and 1 team is declared the winner.\n",
    "# Total number of matches = 3 + 2 + 1 = 6.\n",
    "\n",
    "# If the current number of teams is even, each team gets paired with another team. A total of n / 2 matches are played, and n / 2 teams advance to the next round.\n",
    "\n",
    "# If the current number of teams is odd, one team randomly advances in the tournament, and the rest gets paired. A total of (n - 1) / 2 matches are played, and (n - 1) / 2 + 1 teams advance to the next round.\n",
    "\n",
    "def numberOfMatches(n):\n",
    "    m = 0\n",
    "    while n != 1:\n",
    "        if n % 2 == 0:\n",
    "            m += int(n/2)\n",
    "            n = int(n/2)\n",
    "        else:\n",
    "            m += int((n-1)/2)\n",
    "            n = int((n-1)/2+1)\n",
    "    return m\n",
    "numberOfMatches(14)\n",
    "    "
   ]
  },
  {
   "cell_type": "code",
   "execution_count": null,
   "metadata": {},
   "outputs": [],
   "source": [
    "# Given the array nums consisting of 2n elements in the form [x1,x2,...,xn,y1,y2,...,yn]\n",
    "# Return the array in the form [x1,y1,x2,y2,...,xn,yn]\n",
    "# Input: nums = [2,5,1,3,4,7], n = 3\n",
    "# Output: [2,3,5,4,1,7] \n",
    "# Explanation: Since x1=2, x2=5, x3=1, y1=3, y2=4, y3=7 then the answer is [2,3,5,4,1,7]\n",
    "# class Solution:\n",
    "def shuffle(nums, n):\n",
    "    r= []\n",
    "    i = 0\n",
    "    while n < len(nums):\n",
    "        r.append(nums[i])\n",
    "        r.append(nums[n])\n",
    "        i += 1\n",
    "        n += 1\n",
    "    return r\n",
    "\n",
    "i = [2,5,1,3,4,7]\n",
    "n = 3\n",
    "shuffle(i,n)\n"
   ]
  },
  {
   "cell_type": "code",
   "execution_count": null,
   "metadata": {},
   "outputs": [],
   "source": [
    "#1295 find numbers with even number of digits\n",
    "#Given an array nums of integers, return how many of them contain an even number of digits\n",
    "# Input: nums = [12,345,2,6,7896]\n",
    "# Output: 2\n",
    "# Explanation: \n",
    "# 12 contains 2 digits (even number of digits). \n",
    "# 345 contains 3 digits (odd number of digits). \n",
    "# 2 contains 1 digit (odd number of digits). \n",
    "# 6 contains 1 digit (odd number of digits). \n",
    "# 7896 contains 4 digits (even number of digits). \n",
    "# Therefore only 12 and 7896 contain an even number of digits.\n",
    "\n",
    "def findNumbers(nums):\n",
    "    even_counter = 0\n",
    "    for n in nums:\n",
    "        n = str(n)\n",
    "        if len(n) % 2 == 0:\n",
    "            even_counter += 1\n",
    "    return even_counter\n",
    "nums = [12,345,2,6,7896]\n",
    "findNumbers(nums)"
   ]
  },
  {
   "cell_type": "code",
   "execution_count": 17,
   "metadata": {},
   "outputs": [
    {
     "output_type": "stream",
     "name": "stdout",
     "text": [
      "1\n"
     ]
    },
    {
     "output_type": "execute_result",
     "data": {
      "text/plain": [
       "[5, 4]"
      ]
     },
     "metadata": {},
     "execution_count": 17
    }
   ],
   "source": [
    "# 888 fair candy shop\n",
    "# Alice and Bob have candy bars of different sizes: A[i] is the size of the i-th bar of candy that Alice has, and B[j] is the size of the j-th bar of candy that Bob has.\n",
    "\n",
    "# Since they are friends, they would like to exchange one candy bar each so that after the exchange, they both have the same total amount of candy.  (The total amount of candy a person has is the sum of the sizes of candy bars they have.)\n",
    "\n",
    "# Return an integer array ans where ans[0] is the size of the candy bar that Alice must exchange, and ans[1] is the size of the candy bar that Bob must exchange.\n",
    "\n",
    "# If there are multiple answers, you may return any one of them.  It is guaranteed an answer exists.\n",
    "\n",
    "# Input: A = [1,1], B = [2,2]\n",
    "# Output: [1,2]\n",
    "\n",
    "# Input: A = [1,2], B = [2,3]\n",
    "# Output: [1,2]\n",
    "def fairCandySwap(a,b):\n",
    "    sum_a = sum(a)\n",
    "    sum_b = sum(b)\n",
    "    for x in a:\n",
    "        for y in b:\n",
    "            if (sum_a - x) + y == (sum_b - y) + x:\n",
    "                return [x,y]\n",
    "\n",
    "def fairCandySwap2(a,b):\n",
    "    difference = (sum(a)-sum(b)) // 2\n",
    "    print(difference)\n",
    "    for x in a:\n",
    "        if x-difference in b:\n",
    "            return [x,x-difference]\n",
    "a=[1,2,5] # 8. 9\n",
    "b= [2,4]  # 6  5\n",
    "fairCandySwap2(a,b)"
   ]
  },
  {
   "cell_type": "code",
   "execution_count": 70,
   "metadata": {},
   "outputs": [
    {
     "output_type": "execute_result",
     "data": {
      "text/plain": [
       "[]"
      ]
     },
     "metadata": {},
     "execution_count": 70
    }
   ],
   "source": [
    "#1002 find common characters\n",
    "# given an array A of strings made only from lowercase letters, return a list of all characters that show up in all strings within the list (including duplicates). For example, if a character occurs 3 times in all strings but not 4 times, you neex to include that character three times in the final answer. you may return the answer in any order.\n",
    "\n",
    "def commonChar(A):\n",
    "    t = {}\n",
    "    A_len = len(A)\n",
    "    A_str = \"\".join(A)\n",
    "    for i in A_str:\n",
    "        if i not in t:\n",
    "            t[i] = 0\n",
    "        t[i] += 1\n",
    "    r =[]\n",
    "    for k,v in t.items():\n",
    "        if v >=A_len:\n",
    "            v = v //A_len\n",
    "            for n in range(v):\n",
    "                r.append(k)\n",
    "    #above solution didn't pass all test cases\n",
    "\n",
    "def commonChar2(a):\n",
    "    b = list(set(a[0]))\n",
    "    for string in a:\n",
    "        for ltr in range(len(b)-1,-1,-1):\n",
    "            if b[ltr] not in string:\n",
    "                b.pop(ltr)\n",
    "    if b == []:\n",
    "        return []\n",
    "    c = [len(a[0])]*len(b)\n",
    "    for string in a:\n",
    "        for _ in range(len(b)):\n",
    "            cnt = string.count(b[_])\n",
    "            c[_] = min(c[_],cnt)\n",
    "    r = []\n",
    "    ind =0\n",
    "    for l in c:\n",
    "        for i in range(l):\n",
    "            r.append(b[ind])\n",
    "        ind += 1\n",
    "    return r\n",
    "# faster than 93.22%, less memory than 91.31%\n",
    "\n",
    "\n",
    "    \n",
    "inp = [\"bella\",\"label\",\"roller\"]\n",
    "inp2 = [\"cool\",\"lock\",\"cook\"]\n",
    "inp3 =[\"acabcddd\",\"bcbdbcbd\",\"baddbadb\",\"cbdddcac\",\"aacbcccd\",\"ccccddda\",\"cababaab\",\"addcaccd\"]\n",
    "#out = [\"e\",\"l\",\"l\"]\n",
    "commonChar2(inp3)"
   ]
  },
  {
   "cell_type": "code",
   "execution_count": 117,
   "metadata": {},
   "outputs": [
    {
     "output_type": "execute_result",
     "data": {
      "text/plain": [
       "0"
      ]
     },
     "metadata": {},
     "execution_count": 117
    }
   ],
   "source": [
    "#7 reverse integer\n",
    "# Given a 32 bit signed integer, reverse digits of an integer\n",
    "# Note: assume we are dealing with an environment that could ony store integers with the 32-bit signed integer range[-2^31, 2^31-1]. \n",
    "# For the purpose of this problem, assume that your function returns 0 when the reverse integer overflows. \n",
    "\n",
    "# class solution:\n",
    "    # def reverse(self,x:int)->int:\n",
    "def reverse(x):\n",
    "    if -2**31>=x>=2**31-1:return 0\n",
    "    if -2**31<=x<=2**31-1:\n",
    "        neg = False\n",
    "        if x < 0:\n",
    "            neg = True\n",
    "            x *= -1\n",
    "        if x == 0:\n",
    "            return 0\n",
    "        x = [int(n) for n in str(x)]\n",
    "        for n in x:\n",
    "            if n == 0:\n",
    "                x.pop(0)\n",
    "            else:\n",
    "                break\n",
    "        s,e = 0,len(x)-1\n",
    "        while s<e:\n",
    "            x[s],x[e] = x[e],x[s]\n",
    "            s+= 1\n",
    "            e-=1\n",
    "        x = \"\".join(map(str,x))\n",
    "        x = int(x)\n",
    "        if neg:\n",
    "            return x*-1\n",
    "\n",
    "        if -2**31>=x>=2**31-1:return 0\n",
    "        return x\n",
    "\n",
    "def reverse2(x):\n",
    "    if x >0:\n",
    "        a = int(str(x)[::-1])\n",
    "    if x <0:\n",
    "        a = -1* int(str(x*-1)[::-1])\n",
    "    minb= -2**31\n",
    "    maxb= 2**31 -1\n",
    "    if a not in range(minb,maxb):\n",
    "        return 0\n",
    "    else:\n",
    "        return a\n",
    "    \n",
    "\n",
    "inp = 123\n",
    "inp2 = -123\n",
    "inp3 = 120\n",
    "inp4 = 1534236469\n",
    "reverse2(inp4)"
   ]
  },
  {
   "cell_type": "code",
   "execution_count": 13,
   "metadata": {},
   "outputs": [
    {
     "output_type": "stream",
     "name": "stdout",
     "text": [
      "[-1, 1, -1, -1, -1, -1, -1, -1, -1]\n[0, 1, -1, -1, -1, -1, -1, -1, -1]\n[0, 1, 1, -1, -1, -1, -1, -1, -1]\n[0, 1, 1, -1, -1, -1, -1, -1, -1]\n[0, 1, 1, 2, -1, -1, -1, -1, -1]\n[0, 1, 1, 2, -1, -1, -1, -1, -1]\n[0, 1, 1, 2, 3, -1, -1, -1, -1]\n[0, 1, 1, 2, 3, -1, -1, -1, -1]\n[0, 1, 1, 2, 3, 5, -1, -1, -1]\n[0, 1, 1, 2, 3, 5, -1, -1, -1]\n[0, 1, 1, 2, 3, 5, 8, -1, -1]\n[0, 1, 1, 2, 3, 5, 8, -1, -1]\n[0, 1, 1, 2, 3, 5, 8, 13, -1]\n[0, 1, 1, 2, 3, 5, 8, 13, -1]\n[0, 1, 1, 2, 3, 5, 8, 13, 21]\n"
     ]
    },
    {
     "output_type": "execute_result",
     "data": {
      "text/plain": [
       "21"
      ]
     },
     "metadata": {},
     "execution_count": 13
    }
   ],
   "source": [
    "#fibonnacci number using memoization\n",
    "def find_fib(n,look_up_table):\n",
    "    if look_up_table[n] == -1:\n",
    "        if n<=1:\n",
    "            look_up_table[n] = n\n",
    "        else:\n",
    "            look_up_table[n] = find_fib(n-1,look_up_table) +find_fib(n-2,look_up_table)\n",
    "    return look_up_table[n]\n",
    "\n",
    "n = 8\n",
    "look_up_table = [-1] * (n+1)\n",
    "find_fib(n,look_up_table)"
   ]
  }
 ]
}