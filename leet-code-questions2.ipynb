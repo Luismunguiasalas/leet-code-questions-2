{
 "metadata": {
  "language_info": {
   "codemirror_mode": {
    "name": "ipython",
    "version": 3
   },
   "file_extension": ".py",
   "mimetype": "text/x-python",
   "name": "python",
   "nbconvert_exporter": "python",
   "pygments_lexer": "ipython3",
   "version": "3.8.5-final"
  },
  "orig_nbformat": 2,
  "kernelspec": {
   "name": "python3",
   "display_name": "Python 3",
   "language": "python"
  }
 },
 "nbformat": 4,
 "nbformat_minor": 2,
 "cells": [
  {
   "cell_type": "code",
   "execution_count": null,
   "metadata": {},
   "outputs": [],
   "source": [
    "# 1672 richest customer wealth\n",
    "class Solution:\n",
    "    def maximumWealth(self, accounts: List[List[int]]) -> int:\n",
    "        max_wealth = 0\n",
    "        for a in accounts:\n",
    "            summ = sum(a)\n",
    "            if summ > max_wealth:\n",
    "                max_wealth = summ\n",
    "        return max_wealth"
   ]
  },
  {
   "cell_type": "code",
   "execution_count": null,
   "metadata": {},
   "outputs": [],
   "source": [
    "# remove duplicates from sorted list\n",
    "# Definition for singly-linked list.\n",
    "# class ListNode:\n",
    "#     def __init__(self, val=0, next=None):\n",
    "#         self.val = val\n",
    "#         self.next = next\n",
    "class Solution:\n",
    "    def deleteDuplicates(self, head: ListNode) -> ListNode:\n",
    "        current = head\n",
    "        while current is not None and current.next is not None:\n",
    "            if current.val == current.next.val:\n",
    "                current.next = current.next.next\n",
    "            else:\n",
    "                current = current.next\n",
    "        return head"
   ]
  },
  {
   "cell_type": "code",
   "execution_count": null,
   "metadata": {},
   "outputs": [],
   "source": [
    "# 1360 number of days between two dates\n",
    "class Solution:\n",
    "    def daysBetweenDates(self, date1: str, date2: str) -> int:\n",
    "        from datetime import datetime\n",
    "        d1 = datetime.strptime(date1, \"%Y-%m-%d\")\n",
    "        d2 = datetime.strptime(date2, \"%Y-%m-%d\")\n",
    "        return abs((d2-d1).days)"
   ]
  },
  {
   "cell_type": "code",
   "execution_count": 45,
   "metadata": {},
   "outputs": [
    {
     "output_type": "execute_result",
     "data": {
      "text/plain": [
       "13"
      ]
     },
     "metadata": {},
     "execution_count": 45
    }
   ],
   "source": [
    "# 1688. Count of Matches in Tournament\n",
    "# Input: n = 7\n",
    "# Output: 6\n",
    "# Explanation: Details of the tournament: \n",
    "# - 1st Round: Teams = 7, Matches = 3, and 4 teams advance.\n",
    "# - 2nd Round: Teams = 4, Matches = 2, and 2 teams advance.\n",
    "# - 3rd Round: Teams = 2, Matches = 1, and 1 team is declared the winner.\n",
    "# Total number of matches = 3 + 2 + 1 = 6.\n",
    "\n",
    "# If the current number of teams is even, each team gets paired with another team. A total of n / 2 matches are played, and n / 2 teams advance to the next round.\n",
    "\n",
    "# If the current number of teams is odd, one team randomly advances in the tournament, and the rest gets paired. A total of (n - 1) / 2 matches are played, and (n - 1) / 2 + 1 teams advance to the next round.\n",
    "\n",
    "def numberOfMatches(n):\n",
    "    m = 0\n",
    "    while n != 1:\n",
    "        if n % 2 == 0:\n",
    "            m += int(n/2)\n",
    "            n = int(n/2)\n",
    "        else:\n",
    "            m += int((n-1)/2)\n",
    "            n = int((n-1)/2+1)\n",
    "    return m\n",
    "numberOfMatches(14)\n",
    "    "
   ]
  },
  {
   "cell_type": "code",
   "execution_count": 63,
   "metadata": {},
   "outputs": [
    {
     "output_type": "execute_result",
     "data": {
      "text/plain": [
       "[2, 3, 5, 4, 1, 7]"
      ]
     },
     "metadata": {},
     "execution_count": 63
    }
   ],
   "source": [
    "# Given the array nums consisting of 2n elements in the form [x1,x2,...,xn,y1,y2,...,yn]\n",
    "# Return the array in the form [x1,y1,x2,y2,...,xn,yn]\n",
    "# Input: nums = [2,5,1,3,4,7], n = 3\n",
    "# Output: [2,3,5,4,1,7] \n",
    "# Explanation: Since x1=2, x2=5, x3=1, y1=3, y2=4, y3=7 then the answer is [2,3,5,4,1,7]\n",
    "# class Solution:\n",
    "def shuffle(nums, n):\n",
    "    r= []\n",
    "    i = 0\n",
    "    while n < len(nums):\n",
    "        r.append(nums[i])\n",
    "        r.append(nums[n])\n",
    "        i += 1\n",
    "        n += 1\n",
    "    return r\n",
    "\n",
    "i = [2,5,1,3,4,7]\n",
    "n = 3\n",
    "shuffle(i,n)\n"
   ]
  },
  {
   "cell_type": "code",
   "execution_count": null,
   "metadata": {},
   "outputs": [],
   "source": [
    "#1295 find numbers with even number of digits\n",
    "#Given an array nums of integers, return how many of them contain an even number of digits\n",
    "# Input: nums = [12,345,2,6,7896]\n",
    "# Output: 2\n",
    "# Explanation: \n",
    "# 12 contains 2 digits (even number of digits). \n",
    "# 345 contains 3 digits (odd number of digits). \n",
    "# 2 contains 1 digit (odd number of digits). \n",
    "# 6 contains 1 digit (odd number of digits). \n",
    "# 7896 contains 4 digits (even number of digits). \n",
    "# Therefore only 12 and 7896 contain an even number of digits.\n",
    "\n",
    "def findNumbers(nums):\n",
    "    "
   ]
  }
 ]
}